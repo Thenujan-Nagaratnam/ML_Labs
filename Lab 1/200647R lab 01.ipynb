{
 "cells": [
  {
   "cell_type": "markdown",
   "id": "9e11a0bf",
   "metadata": {},
   "source": [
    "Import all essential libraries"
   ]
  },
  {
   "cell_type": "code",
   "execution_count": 1,
   "id": "4aa3eb9a-dc92-4359-9c9e-c8df7b6091d6",
   "metadata": {
    "id": "4aa3eb9a-dc92-4359-9c9e-c8df7b6091d6"
   },
   "outputs": [],
   "source": [
    "import numpy as np\n",
    "import pandas as pd\n",
    "import matplotlib.pyplot as plt\n",
    "from sklearn.linear_model import LinearRegression\n",
    "from sklearn.metrics import mean_squared_error,r2_score\n",
    "from sklearn.model_selection import cross_val_score\n",
    "from sklearn.metrics import accuracy_score\n",
    "from sklearn.ensemble import RandomForestClassifier\n",
    "import seaborn as sns\n",
    "from sklearn.decomposition import PCA\n",
    "from sklearn.feature_selection import mutual_info_classif\n",
    "from sklearn.utils import resample"
   ]
  },
  {
   "cell_type": "markdown",
   "id": "4cb1401c",
   "metadata": {},
   "source": [
    "add values to dataframes"
   ]
  },
  {
   "cell_type": "code",
   "execution_count": 2,
   "id": "e49c26f4-249e-4026-9084-e173c09d9d0f",
   "metadata": {
    "id": "e49c26f4-249e-4026-9084-e173c09d9d0f"
   },
   "outputs": [],
   "source": [
    "df1 = pd.read_csv('train.csv')\n",
    "df2 = pd.read_csv('test.csv')\n",
    "df3 = pd.read_csv('expected.csv')"
   ]
  },
  {
   "cell_type": "code",
   "execution_count": 3,
   "id": "bec84b6c",
   "metadata": {},
   "outputs": [
    {
     "name": "stdout",
     "output_type": "stream",
     "text": [
      "[3 4 5 6 7 8 9]\n"
     ]
    }
   ],
   "source": [
    "unique_classes = np.unique(df1.y)\n",
    "class_counts = df1.y.value_counts()\n",
    "class_counts\n",
    "# max_class_count = np.max(class_counts)\n",
    "print(unique_classes)"
   ]
  },
  {
   "cell_type": "code",
   "execution_count": 4,
   "id": "88053833",
   "metadata": {},
   "outputs": [],
   "source": [
    "upsampled = pd.DataFrame()\n",
    "\n",
    "for unique_class in unique_classes:\n",
    "    class_df = df1[df1.y == unique_class]\n",
    "    if len(class_df) < 80:\n",
    "        class_df_upsampled = resample(class_df,\n",
    "                                      replace=True,\n",
    "                                      n_samples=80,\n",
    "                                      random_state=42)\n",
    "        upsampled = pd.concat([upsampled, class_df_upsampled])\n",
    "    else:\n",
    "        upsampled = pd.concat([upsampled, class_df])\n",
    "\n",
    "# Separate features and target vector\n",
    "df1 = upsampled"
   ]
  },
  {
   "cell_type": "code",
   "execution_count": 5,
   "id": "47065b6f",
   "metadata": {},
   "outputs": [
    {
     "data": {
      "text/html": [
       "<div>\n",
       "<style scoped>\n",
       "    .dataframe tbody tr th:only-of-type {\n",
       "        vertical-align: middle;\n",
       "    }\n",
       "\n",
       "    .dataframe tbody tr th {\n",
       "        vertical-align: top;\n",
       "    }\n",
       "\n",
       "    .dataframe thead th {\n",
       "        text-align: right;\n",
       "    }\n",
       "</style>\n",
       "<table border=\"1\" class=\"dataframe\">\n",
       "  <thead>\n",
       "    <tr style=\"text-align: right;\">\n",
       "      <th></th>\n",
       "      <th>x1</th>\n",
       "      <th>x2</th>\n",
       "      <th>x3</th>\n",
       "      <th>x4</th>\n",
       "      <th>x5</th>\n",
       "      <th>x6</th>\n",
       "      <th>x7</th>\n",
       "      <th>x8</th>\n",
       "      <th>x9</th>\n",
       "      <th>x10</th>\n",
       "      <th>x11</th>\n",
       "      <th>x12</th>\n",
       "      <th>x13</th>\n",
       "      <th>x14</th>\n",
       "      <th>x15</th>\n",
       "      <th>y</th>\n",
       "    </tr>\n",
       "  </thead>\n",
       "  <tbody>\n",
       "    <tr>\n",
       "      <th>count</th>\n",
       "      <td>3401.000000</td>\n",
       "      <td>3404.000000</td>\n",
       "      <td>3396.000000</td>\n",
       "      <td>3408.000000</td>\n",
       "      <td>3391.000000</td>\n",
       "      <td>3401.000000</td>\n",
       "      <td>3405.000000</td>\n",
       "      <td>3384.000000</td>\n",
       "      <td>3406.000000</td>\n",
       "      <td>3404.000000</td>\n",
       "      <td>3408.000000</td>\n",
       "      <td>3407.000000</td>\n",
       "      <td>3408.000000</td>\n",
       "      <td>3408.000000</td>\n",
       "      <td>3334.000000</td>\n",
       "      <td>3408.000000</td>\n",
       "    </tr>\n",
       "    <tr>\n",
       "      <th>mean</th>\n",
       "      <td>6.880888</td>\n",
       "      <td>0.277403</td>\n",
       "      <td>0.337624</td>\n",
       "      <td>68.713542</td>\n",
       "      <td>6.369316</td>\n",
       "      <td>0.045286</td>\n",
       "      <td>0.997996</td>\n",
       "      <td>35.279551</td>\n",
       "      <td>0.502990</td>\n",
       "      <td>0.832071</td>\n",
       "      <td>137.546802</td>\n",
       "      <td>0.993986</td>\n",
       "      <td>3.189792</td>\n",
       "      <td>0.488791</td>\n",
       "      <td>10.553149</td>\n",
       "      <td>5.898181</td>\n",
       "    </tr>\n",
       "    <tr>\n",
       "      <th>std</th>\n",
       "      <td>0.909317</td>\n",
       "      <td>0.100442</td>\n",
       "      <td>0.122041</td>\n",
       "      <td>21.513906</td>\n",
       "      <td>5.086679</td>\n",
       "      <td>0.021575</td>\n",
       "      <td>0.077924</td>\n",
       "      <td>17.150083</td>\n",
       "      <td>0.023322</td>\n",
       "      <td>0.301594</td>\n",
       "      <td>42.882100</td>\n",
       "      <td>0.003060</td>\n",
       "      <td>0.152362</td>\n",
       "      <td>0.113802</td>\n",
       "      <td>1.263802</td>\n",
       "      <td>1.063533</td>\n",
       "    </tr>\n",
       "    <tr>\n",
       "      <th>min</th>\n",
       "      <td>3.800000</td>\n",
       "      <td>0.080000</td>\n",
       "      <td>0.000000</td>\n",
       "      <td>4.500000</td>\n",
       "      <td>0.600000</td>\n",
       "      <td>0.009000</td>\n",
       "      <td>0.000300</td>\n",
       "      <td>2.000000</td>\n",
       "      <td>0.000300</td>\n",
       "      <td>0.010000</td>\n",
       "      <td>9.000000</td>\n",
       "      <td>0.987220</td>\n",
       "      <td>2.720000</td>\n",
       "      <td>0.220000</td>\n",
       "      <td>8.000000</td>\n",
       "      <td>3.000000</td>\n",
       "    </tr>\n",
       "    <tr>\n",
       "      <th>25%</th>\n",
       "      <td>6.300000</td>\n",
       "      <td>0.210000</td>\n",
       "      <td>0.270000</td>\n",
       "      <td>53.500000</td>\n",
       "      <td>1.700000</td>\n",
       "      <td>0.035000</td>\n",
       "      <td>0.995791</td>\n",
       "      <td>23.000000</td>\n",
       "      <td>0.489958</td>\n",
       "      <td>0.630000</td>\n",
       "      <td>107.000000</td>\n",
       "      <td>0.991600</td>\n",
       "      <td>3.090000</td>\n",
       "      <td>0.410000</td>\n",
       "      <td>9.500000</td>\n",
       "      <td>5.000000</td>\n",
       "    </tr>\n",
       "    <tr>\n",
       "      <th>50%</th>\n",
       "      <td>6.800000</td>\n",
       "      <td>0.260000</td>\n",
       "      <td>0.320000</td>\n",
       "      <td>66.500000</td>\n",
       "      <td>5.100000</td>\n",
       "      <td>0.042000</td>\n",
       "      <td>0.996845</td>\n",
       "      <td>34.000000</td>\n",
       "      <td>0.502427</td>\n",
       "      <td>0.780000</td>\n",
       "      <td>133.000000</td>\n",
       "      <td>0.993700</td>\n",
       "      <td>3.180000</td>\n",
       "      <td>0.470000</td>\n",
       "      <td>10.400000</td>\n",
       "      <td>6.000000</td>\n",
       "    </tr>\n",
       "    <tr>\n",
       "      <th>75%</th>\n",
       "      <td>7.400000</td>\n",
       "      <td>0.320000</td>\n",
       "      <td>0.390000</td>\n",
       "      <td>83.000000</td>\n",
       "      <td>9.900000</td>\n",
       "      <td>0.050000</td>\n",
       "      <td>0.998098</td>\n",
       "      <td>46.000000</td>\n",
       "      <td>0.515874</td>\n",
       "      <td>0.960000</td>\n",
       "      <td>166.000000</td>\n",
       "      <td>0.996200</td>\n",
       "      <td>3.280000</td>\n",
       "      <td>0.550000</td>\n",
       "      <td>11.400000</td>\n",
       "      <td>6.000000</td>\n",
       "    </tr>\n",
       "    <tr>\n",
       "      <th>max</th>\n",
       "      <td>14.200000</td>\n",
       "      <td>1.100000</td>\n",
       "      <td>1.660000</td>\n",
       "      <td>172.000000</td>\n",
       "      <td>65.800000</td>\n",
       "      <td>0.346000</td>\n",
       "      <td>5.432281</td>\n",
       "      <td>138.500000</td>\n",
       "      <td>0.580925</td>\n",
       "      <td>3.300000</td>\n",
       "      <td>344.000000</td>\n",
       "      <td>1.038980</td>\n",
       "      <td>3.810000</td>\n",
       "      <td>1.080000</td>\n",
       "      <td>14.050000</td>\n",
       "      <td>9.000000</td>\n",
       "    </tr>\n",
       "  </tbody>\n",
       "</table>\n",
       "</div>"
      ],
      "text/plain": [
       "                x1           x2           x3           x4           x5  \\\n",
       "count  3401.000000  3404.000000  3396.000000  3408.000000  3391.000000   \n",
       "mean      6.880888     0.277403     0.337624    68.713542     6.369316   \n",
       "std       0.909317     0.100442     0.122041    21.513906     5.086679   \n",
       "min       3.800000     0.080000     0.000000     4.500000     0.600000   \n",
       "25%       6.300000     0.210000     0.270000    53.500000     1.700000   \n",
       "50%       6.800000     0.260000     0.320000    66.500000     5.100000   \n",
       "75%       7.400000     0.320000     0.390000    83.000000     9.900000   \n",
       "max      14.200000     1.100000     1.660000   172.000000    65.800000   \n",
       "\n",
       "                x6           x7           x8           x9          x10  \\\n",
       "count  3401.000000  3405.000000  3384.000000  3406.000000  3404.000000   \n",
       "mean      0.045286     0.997996    35.279551     0.502990     0.832071   \n",
       "std       0.021575     0.077924    17.150083     0.023322     0.301594   \n",
       "min       0.009000     0.000300     2.000000     0.000300     0.010000   \n",
       "25%       0.035000     0.995791    23.000000     0.489958     0.630000   \n",
       "50%       0.042000     0.996845    34.000000     0.502427     0.780000   \n",
       "75%       0.050000     0.998098    46.000000     0.515874     0.960000   \n",
       "max       0.346000     5.432281   138.500000     0.580925     3.300000   \n",
       "\n",
       "               x11          x12          x13          x14          x15  \\\n",
       "count  3408.000000  3407.000000  3408.000000  3408.000000  3334.000000   \n",
       "mean    137.546802     0.993986     3.189792     0.488791    10.553149   \n",
       "std      42.882100     0.003060     0.152362     0.113802     1.263802   \n",
       "min       9.000000     0.987220     2.720000     0.220000     8.000000   \n",
       "25%     107.000000     0.991600     3.090000     0.410000     9.500000   \n",
       "50%     133.000000     0.993700     3.180000     0.470000    10.400000   \n",
       "75%     166.000000     0.996200     3.280000     0.550000    11.400000   \n",
       "max     344.000000     1.038980     3.810000     1.080000    14.050000   \n",
       "\n",
       "                 y  \n",
       "count  3408.000000  \n",
       "mean      5.898181  \n",
       "std       1.063533  \n",
       "min       3.000000  \n",
       "25%       5.000000  \n",
       "50%       6.000000  \n",
       "75%       6.000000  \n",
       "max       9.000000  "
      ]
     },
     "execution_count": 5,
     "metadata": {},
     "output_type": "execute_result"
    }
   ],
   "source": [
    "df1.describe()"
   ]
  },
  {
   "cell_type": "code",
   "execution_count": 6,
   "id": "db205cce",
   "metadata": {},
   "outputs": [],
   "source": [
    "# df1 = df1.drop_duplicates()"
   ]
  },
  {
   "cell_type": "code",
   "execution_count": 7,
   "id": "8e3bbb1b",
   "metadata": {},
   "outputs": [],
   "source": [
    "# sort dataframe using y values\n",
    "df1 = df1.sort_values('y', ascending=True).reset_index(drop=True)"
   ]
  },
  {
   "cell_type": "code",
   "execution_count": 8,
   "id": "8d80b2eb",
   "metadata": {},
   "outputs": [],
   "source": [
    "# concatenate test data to pre process\n",
    "df2_wr = df2.copy()\n",
    "\n",
    "df2 = pd.concat([df2, df3], axis=1)"
   ]
  },
  {
   "cell_type": "code",
   "execution_count": 9,
   "id": "7f4914fe",
   "metadata": {},
   "outputs": [],
   "source": [
    "# fill missing values using forward fill method\n",
    "df1 = df1.fillna(method = 'ffill')\n",
    "df2 = df2.fillna(method = 'ffill')"
   ]
  },
  {
   "cell_type": "code",
   "execution_count": 10,
   "id": "f9fb9ee9-5247-4f45-96f9-3aad075dd226",
   "metadata": {
    "id": "f9fb9ee9-5247-4f45-96f9-3aad075dd226"
   },
   "outputs": [],
   "source": [
    "# train x and train y\n",
    "df1_x = df1.drop(['y'], axis =1)\n",
    "df1_y = df1[\"y\"]"
   ]
  },
  {
   "cell_type": "code",
   "execution_count": 11,
   "id": "98c84599",
   "metadata": {},
   "outputs": [],
   "source": [
    "# remove outliers\n",
    "df_clean = df1_x[(df1_x > df1_x.quantile(0.0001)) & (df1_x < df1_x.quantile(0.9999))]"
   ]
  },
  {
   "cell_type": "code",
   "execution_count": 12,
   "id": "d38aa0c8",
   "metadata": {},
   "outputs": [],
   "source": [
    "df1 = pd.concat([df_clean, df1_y], axis=1)\n",
    "df1 = df1.dropna()"
   ]
  },
  {
   "cell_type": "markdown",
   "id": "c1f71512",
   "metadata": {},
   "source": [
    "Select 13 best features using mutual information"
   ]
  },
  {
   "cell_type": "code",
   "execution_count": 13,
   "id": "371849f3",
   "metadata": {},
   "outputs": [
    {
     "name": "stdout",
     "output_type": "stream",
     "text": [
      "Index(['x7', 'x12', 'x15', 'x4', 'x11', 'x5', 'x6', 'x8', 'x13', 'x10', 'x2',\n",
      "       'x9', 'x1'],\n",
      "      dtype='object')\n"
     ]
    }
   ],
   "source": [
    "mutual_info = mutual_info_classif(df1_x, df1_y)\n",
    "selected_features = df1_x.columns[np.argsort(mutual_info)[::-1][:13]]\n",
    "print(selected_features)"
   ]
  },
  {
   "cell_type": "code",
   "execution_count": 14,
   "id": "aaeebc3e",
   "metadata": {},
   "outputs": [],
   "source": [
    "df1_x = df1[selected_features]\n",
    "df1_y = df1[\"y\"]"
   ]
  },
  {
   "cell_type": "code",
   "execution_count": 15,
   "id": "2-uxyo1fXnv5",
   "metadata": {
    "id": "2-uxyo1fXnv5"
   },
   "outputs": [],
   "source": [
    "df2_x = df2[selected_features]\n",
    "df2_y = df2['y']"
   ]
  },
  {
   "cell_type": "markdown",
   "id": "4cf5f325",
   "metadata": {},
   "source": [
    "Feature scaling using standard scaler"
   ]
  },
  {
   "cell_type": "code",
   "execution_count": 16,
   "id": "ru31cxJGwgjN",
   "metadata": {
    "id": "ru31cxJGwgjN"
   },
   "outputs": [],
   "source": [
    "from sklearn.preprocessing import StandardScaler\n",
    "scaler = StandardScaler()\n",
    "df1_x = scaler.fit_transform(df1_x) #the scaler is fitted to the training set and then transformed\n",
    "df2_x = scaler.transform(df2_x)       #the scaler is applied to the test set\n",
    "\n",
    "df1_x = pd.DataFrame(df1_x, columns=selected_features)\n",
    "df2_x = pd.DataFrame(df2_x, columns=selected_features)\n",
    "\n",
    "df1 = pd.concat([df1_x, df1_y], axis=1)"
   ]
  },
  {
   "cell_type": "code",
   "execution_count": 17,
   "id": "5973cbae",
   "metadata": {},
   "outputs": [
    {
     "data": {
      "text/html": [
       "<div>\n",
       "<style scoped>\n",
       "    .dataframe tbody tr th:only-of-type {\n",
       "        vertical-align: middle;\n",
       "    }\n",
       "\n",
       "    .dataframe tbody tr th {\n",
       "        vertical-align: top;\n",
       "    }\n",
       "\n",
       "    .dataframe thead th {\n",
       "        text-align: right;\n",
       "    }\n",
       "</style>\n",
       "<table border=\"1\" class=\"dataframe\">\n",
       "  <thead>\n",
       "    <tr style=\"text-align: right;\">\n",
       "      <th></th>\n",
       "      <th>x7</th>\n",
       "      <th>x12</th>\n",
       "      <th>x15</th>\n",
       "      <th>x4</th>\n",
       "      <th>x11</th>\n",
       "      <th>x5</th>\n",
       "      <th>x6</th>\n",
       "      <th>x8</th>\n",
       "      <th>x13</th>\n",
       "      <th>x10</th>\n",
       "      <th>x2</th>\n",
       "      <th>x9</th>\n",
       "      <th>x1</th>\n",
       "      <th>y</th>\n",
       "    </tr>\n",
       "  </thead>\n",
       "  <tbody>\n",
       "    <tr>\n",
       "      <th>0</th>\n",
       "      <td>-0.023989</td>\n",
       "      <td>-0.025242</td>\n",
       "      <td>-0.761775</td>\n",
       "      <td>-2.440037</td>\n",
       "      <td>-2.451388</td>\n",
       "      <td>-0.995220</td>\n",
       "      <td>-0.394864</td>\n",
       "      <td>-1.764930</td>\n",
       "      <td>-1.975267</td>\n",
       "      <td>-1.092481</td>\n",
       "      <td>-1.092481</td>\n",
       "      <td>-1.952889</td>\n",
       "      <td>3.870071</td>\n",
       "      <td>3.0</td>\n",
       "    </tr>\n",
       "    <tr>\n",
       "      <th>1</th>\n",
       "      <td>-0.007106</td>\n",
       "      <td>-0.008370</td>\n",
       "      <td>0.354768</td>\n",
       "      <td>1.646702</td>\n",
       "      <td>1.649594</td>\n",
       "      <td>0.426217</td>\n",
       "      <td>-0.394864</td>\n",
       "      <td>5.174480</td>\n",
       "      <td>-1.908906</td>\n",
       "      <td>-0.371703</td>\n",
       "      <td>-0.371703</td>\n",
       "      <td>-1.883087</td>\n",
       "      <td>2.847333</td>\n",
       "      <td>3.0</td>\n",
       "    </tr>\n",
       "    <tr>\n",
       "      <th>2</th>\n",
       "      <td>1.931601</td>\n",
       "      <td>1.931819</td>\n",
       "      <td>-0.682022</td>\n",
       "      <td>-0.338285</td>\n",
       "      <td>-0.342311</td>\n",
       "      <td>0.946743</td>\n",
       "      <td>-0.537609</td>\n",
       "      <td>-1.181787</td>\n",
       "      <td>-1.709822</td>\n",
       "      <td>-0.474672</td>\n",
       "      <td>-0.474672</td>\n",
       "      <td>-1.675119</td>\n",
       "      <td>5.574633</td>\n",
       "      <td>3.0</td>\n",
       "    </tr>\n",
       "    <tr>\n",
       "      <th>3</th>\n",
       "      <td>-0.007106</td>\n",
       "      <td>-0.008370</td>\n",
       "      <td>0.354768</td>\n",
       "      <td>1.646702</td>\n",
       "      <td>1.649594</td>\n",
       "      <td>0.426217</td>\n",
       "      <td>-0.394864</td>\n",
       "      <td>5.174480</td>\n",
       "      <td>-1.908906</td>\n",
       "      <td>-0.371703</td>\n",
       "      <td>-0.371703</td>\n",
       "      <td>-1.883087</td>\n",
       "      <td>2.847333</td>\n",
       "      <td>3.0</td>\n",
       "    </tr>\n",
       "    <tr>\n",
       "      <th>4</th>\n",
       "      <td>-0.902485</td>\n",
       "      <td>-0.902545</td>\n",
       "      <td>0.913040</td>\n",
       "      <td>-0.665224</td>\n",
       "      <td>-0.670390</td>\n",
       "      <td>-0.574795</td>\n",
       "      <td>-0.775516</td>\n",
       "      <td>-1.764930</td>\n",
       "      <td>2.271857</td>\n",
       "      <td>-0.371703</td>\n",
       "      <td>-0.371703</td>\n",
       "      <td>2.089432</td>\n",
       "      <td>-1.243616</td>\n",
       "      <td>3.0</td>\n",
       "    </tr>\n",
       "  </tbody>\n",
       "</table>\n",
       "</div>"
      ],
      "text/plain": [
       "         x7       x12       x15        x4       x11        x5        x6  \\\n",
       "0 -0.023989 -0.025242 -0.761775 -2.440037 -2.451388 -0.995220 -0.394864   \n",
       "1 -0.007106 -0.008370  0.354768  1.646702  1.649594  0.426217 -0.394864   \n",
       "2  1.931601  1.931819 -0.682022 -0.338285 -0.342311  0.946743 -0.537609   \n",
       "3 -0.007106 -0.008370  0.354768  1.646702  1.649594  0.426217 -0.394864   \n",
       "4 -0.902485 -0.902545  0.913040 -0.665224 -0.670390 -0.574795 -0.775516   \n",
       "\n",
       "         x8       x13       x10        x2        x9        x1    y  \n",
       "0 -1.764930 -1.975267 -1.092481 -1.092481 -1.952889  3.870071  3.0  \n",
       "1  5.174480 -1.908906 -0.371703 -0.371703 -1.883087  2.847333  3.0  \n",
       "2 -1.181787 -1.709822 -0.474672 -0.474672 -1.675119  5.574633  3.0  \n",
       "3  5.174480 -1.908906 -0.371703 -0.371703 -1.883087  2.847333  3.0  \n",
       "4 -1.764930  2.271857 -0.371703 -0.371703  2.089432 -1.243616  3.0  "
      ]
     },
     "execution_count": 17,
     "metadata": {},
     "output_type": "execute_result"
    }
   ],
   "source": [
    "df1.head()"
   ]
  },
  {
   "cell_type": "markdown",
   "id": "cd2075e2",
   "metadata": {},
   "source": [
    "Visualize outliers"
   ]
  },
  {
   "cell_type": "code",
   "execution_count": 18,
   "id": "ea22f265",
   "metadata": {
    "scrolled": true
   },
   "outputs": [
    {
     "data": {
      "image/png": "[encoded data removed]",
      "text/plain": [
       "<Figure size 640x480 with 1 Axes>"
      ]
     },
     "metadata": {},
     "output_type": "display_data"
    }
   ],
   "source": [
    "sns.boxplot(data=df1)\n",
    "\n",
    "plt.title(\"Box plot of X data\")\n",
    "plt.xlabel(\"Feature\")\n",
    "plt.ylabel(\"Value\")\n",
    "\n",
    "plt.show()"
   ]
  },
  {
   "cell_type": "code",
   "execution_count": 19,
   "id": "82bdec76",
   "metadata": {},
   "outputs": [
    {
     "data": {
      "text/plain": [
       "array([3, 4, 5, 6, 7, 8, 9], dtype=int64)"
      ]
     },
     "execution_count": 19,
     "metadata": {},
     "output_type": "execute_result"
    }
   ],
   "source": [
    "df1_y.unique()"
   ]
  },
  {
   "cell_type": "code",
   "execution_count": 20,
   "id": "hPH8LBsd3Ar7",
   "metadata": {
    "colab": {
     "base_uri": "https://localhost:8080/",
     "height": 853
    },
    "id": "hPH8LBsd3Ar7",
    "outputId": "20ccb822-a01e-49cf-c5cf-1293f1a24558"
   },
   "outputs": [
    {
     "name": "stdout",
     "output_type": "stream",
     "text": [
      "Correlated Features: ['x12', 'x11', 'x2', 'x9']\n"
     ]
    },
    {
     "data": {
      "image/png": "[encoded data removed]",
      "text/plain": [
       "<Figure size 1200x1000 with 2 Axes>"
      ]
     },
     "metadata": {},
     "output_type": "display_data"
    }
   ],
   "source": [
    "corr_matrix = df1_x.corr()\n",
    "\n",
    "plt.figure(figsize=(12,10))\n",
    "sns.heatmap(corr_matrix, annot=True, cmap='coolwarm')\n",
    "\n",
    "threshold = 0.9\n",
    "corr_features = []\n",
    "for i in range(len(corr_matrix.columns)):\n",
    "    for j in range(i):\n",
    "        if abs(corr_matrix.iloc[i,j]) > threshold:\n",
    "            corr_features.append(corr_matrix.columns[i])\n",
    "            break\n",
    "\n",
    "print('Correlated Features:', corr_features)\n"
   ]
  },
  {
   "cell_type": "markdown",
   "id": "CuSLfLiFMqa5",
   "metadata": {
    "id": "CuSLfLiFMqa5"
   },
   "source": [
    "Drop the correlated features"
   ]
  },
  {
   "cell_type": "code",
   "execution_count": 21,
   "id": "c6KDocezLC8j",
   "metadata": {
    "id": "c6KDocezLC8j"
   },
   "outputs": [],
   "source": [
    "df1_x = df1_x.drop(corr_features, axis =1)\n",
    "df2_x = df2_x.drop(corr_features, axis=1)"
   ]
  },
  {
   "cell_type": "code",
   "execution_count": 22,
   "id": "47fe80c3",
   "metadata": {},
   "outputs": [
    {
     "data": {
      "text/html": [
       "<div>\n",
       "<style scoped>\n",
       "    .dataframe tbody tr th:only-of-type {\n",
       "        vertical-align: middle;\n",
       "    }\n",
       "\n",
       "    .dataframe tbody tr th {\n",
       "        vertical-align: top;\n",
       "    }\n",
       "\n",
       "    .dataframe thead th {\n",
       "        text-align: right;\n",
       "    }\n",
       "</style>\n",
       "<table border=\"1\" class=\"dataframe\">\n",
       "  <thead>\n",
       "    <tr style=\"text-align: right;\">\n",
       "      <th></th>\n",
       "      <th>x7</th>\n",
       "      <th>x12</th>\n",
       "      <th>x15</th>\n",
       "      <th>x4</th>\n",
       "      <th>x11</th>\n",
       "      <th>x5</th>\n",
       "      <th>x6</th>\n",
       "      <th>x8</th>\n",
       "      <th>x13</th>\n",
       "      <th>x10</th>\n",
       "      <th>x2</th>\n",
       "      <th>x9</th>\n",
       "      <th>x1</th>\n",
       "      <th>y</th>\n",
       "    </tr>\n",
       "  </thead>\n",
       "  <tbody>\n",
       "    <tr>\n",
       "      <th>count</th>\n",
       "      <td>3.358000e+03</td>\n",
       "      <td>3.358000e+03</td>\n",
       "      <td>3.358000e+03</td>\n",
       "      <td>3.358000e+03</td>\n",
       "      <td>3.358000e+03</td>\n",
       "      <td>3.358000e+03</td>\n",
       "      <td>3.358000e+03</td>\n",
       "      <td>3.358000e+03</td>\n",
       "      <td>3.358000e+03</td>\n",
       "      <td>3.358000e+03</td>\n",
       "      <td>3.358000e+03</td>\n",
       "      <td>3.358000e+03</td>\n",
       "      <td>3.358000e+03</td>\n",
       "      <td>3358.000000</td>\n",
       "    </tr>\n",
       "    <tr>\n",
       "      <th>mean</th>\n",
       "      <td>-5.185198e-14</td>\n",
       "      <td>-2.984939e-14</td>\n",
       "      <td>2.542999e-15</td>\n",
       "      <td>-3.926447e-16</td>\n",
       "      <td>1.837588e-16</td>\n",
       "      <td>-6.469248e-16</td>\n",
       "      <td>2.818208e-16</td>\n",
       "      <td>-1.199491e-16</td>\n",
       "      <td>-1.584994e-15</td>\n",
       "      <td>-3.809407e-16</td>\n",
       "      <td>-1.006871e-15</td>\n",
       "      <td>3.763120e-15</td>\n",
       "      <td>-2.144370e-15</td>\n",
       "      <td>5.912150</td>\n",
       "    </tr>\n",
       "    <tr>\n",
       "      <th>std</th>\n",
       "      <td>1.000149e+00</td>\n",
       "      <td>1.000149e+00</td>\n",
       "      <td>1.000149e+00</td>\n",
       "      <td>1.000149e+00</td>\n",
       "      <td>1.000149e+00</td>\n",
       "      <td>1.000149e+00</td>\n",
       "      <td>1.000149e+00</td>\n",
       "      <td>1.000149e+00</td>\n",
       "      <td>1.000149e+00</td>\n",
       "      <td>1.000149e+00</td>\n",
       "      <td>1.000149e+00</td>\n",
       "      <td>1.000149e+00</td>\n",
       "      <td>1.000149e+00</td>\n",
       "      <td>1.053115</td>\n",
       "    </tr>\n",
       "    <tr>\n",
       "      <th>min</th>\n",
       "      <td>-2.215615e+00</td>\n",
       "      <td>-2.211751e+00</td>\n",
       "      <td>-1.718813e+00</td>\n",
       "      <td>-2.790329e+00</td>\n",
       "      <td>-2.802901e+00</td>\n",
       "      <td>-1.135361e+00</td>\n",
       "      <td>-1.584402e+00</td>\n",
       "      <td>-1.881559e+00</td>\n",
       "      <td>-2.970687e+00</td>\n",
       "      <td>-1.967710e+00</td>\n",
       "      <td>-1.967710e+00</td>\n",
       "      <td>-1.827992e+01</td>\n",
       "      <td>-3.402729e+00</td>\n",
       "      <td>3.000000</td>\n",
       "    </tr>\n",
       "    <tr>\n",
       "      <th>25%</th>\n",
       "      <td>-8.010609e-01</td>\n",
       "      <td>-8.013174e-01</td>\n",
       "      <td>-8.415285e-01</td>\n",
       "      <td>-7.119299e-01</td>\n",
       "      <td>-7.172585e-01</td>\n",
       "      <td>-9.351590e-01</td>\n",
       "      <td>-4.900272e-01</td>\n",
       "      <td>-7.152715e-01</td>\n",
       "      <td>-6.480406e-01</td>\n",
       "      <td>-6.806079e-01</td>\n",
       "      <td>-6.806079e-01</td>\n",
       "      <td>-6.498438e-01</td>\n",
       "      <td>-6.754290e-01</td>\n",
       "      <td>5.000000</td>\n",
       "    </tr>\n",
       "    <tr>\n",
       "      <th>50%</th>\n",
       "      <td>-9.152482e-02</td>\n",
       "      <td>-9.272636e-02</td>\n",
       "      <td>-1.237503e-01</td>\n",
       "      <td>-1.047572e-01</td>\n",
       "      <td>-1.079696e-01</td>\n",
       "      <td>-2.544710e-01</td>\n",
       "      <td>-1.569566e-01</td>\n",
       "      <td>-7.381336e-02</td>\n",
       "      <td>-5.078874e-02</td>\n",
       "      <td>-1.657671e-01</td>\n",
       "      <td>-1.657671e-01</td>\n",
       "      <td>-2.055984e-02</td>\n",
       "      <td>-1.072416e-01</td>\n",
       "      <td>6.000000</td>\n",
       "    </tr>\n",
       "    <tr>\n",
       "      <th>75%</th>\n",
       "      <td>7.521847e-01</td>\n",
       "      <td>7.508344e-01</td>\n",
       "      <td>6.737809e-01</td>\n",
       "      <td>6.892378e-01</td>\n",
       "      <td>6.887927e-01</td>\n",
       "      <td>7.065003e-01</td>\n",
       "      <td>2.236954e-01</td>\n",
       "      <td>6.259592e-01</td>\n",
       "      <td>6.128244e-01</td>\n",
       "      <td>4.520419e-01</td>\n",
       "      <td>4.520419e-01</td>\n",
       "      <td>6.051070e-01</td>\n",
       "      <td>5.745834e-01</td>\n",
       "      <td>6.000000</td>\n",
       "    </tr>\n",
       "    <tr>\n",
       "      <th>max</th>\n",
       "      <td>5.491008e+00</td>\n",
       "      <td>5.508517e+00</td>\n",
       "      <td>2.747362e+00</td>\n",
       "      <td>4.098746e+00</td>\n",
       "      <td>4.110184e+00</td>\n",
       "      <td>5.050891e+00</td>\n",
       "      <td>1.216665e+01</td>\n",
       "      <td>5.582681e+00</td>\n",
       "      <td>4.063613e+00</td>\n",
       "      <td>7.505361e+00</td>\n",
       "      <td>7.505361e+00</td>\n",
       "      <td>3.578784e+00</td>\n",
       "      <td>5.574633e+00</td>\n",
       "      <td>9.000000</td>\n",
       "    </tr>\n",
       "  </tbody>\n",
       "</table>\n",
       "</div>"
      ],
      "text/plain": [
       "                 x7           x12           x15            x4           x11  \\\n",
       "count  3.358000e+03  3.358000e+03  3.358000e+03  3.358000e+03  3.358000e+03   \n",
       "mean  -5.185198e-14 -2.984939e-14  2.542999e-15 -3.926447e-16  1.837588e-16   \n",
       "std    1.000149e+00  1.000149e+00  1.000149e+00  1.000149e+00  1.000149e+00   \n",
       "min   -2.215615e+00 -2.211751e+00 -1.718813e+00 -2.790329e+00 -2.802901e+00   \n",
       "25%   -8.010609e-01 -8.013174e-01 -8.415285e-01 -7.119299e-01 -7.172585e-01   \n",
       "50%   -9.152482e-02 -9.272636e-02 -1.237503e-01 -1.047572e-01 -1.079696e-01   \n",
       "75%    7.521847e-01  7.508344e-01  6.737809e-01  6.892378e-01  6.887927e-01   \n",
       "max    5.491008e+00  5.508517e+00  2.747362e+00  4.098746e+00  4.110184e+00   \n",
       "\n",
       "                 x5            x6            x8           x13           x10  \\\n",
       "count  3.358000e+03  3.358000e+03  3.358000e+03  3.358000e+03  3.358000e+03   \n",
       "mean  -6.469248e-16  2.818208e-16 -1.199491e-16 -1.584994e-15 -3.809407e-16   \n",
       "std    1.000149e+00  1.000149e+00  1.000149e+00  1.000149e+00  1.000149e+00   \n",
       "min   -1.135361e+00 -1.584402e+00 -1.881559e+00 -2.970687e+00 -1.967710e+00   \n",
       "25%   -9.351590e-01 -4.900272e-01 -7.152715e-01 -6.480406e-01 -6.806079e-01   \n",
       "50%   -2.544710e-01 -1.569566e-01 -7.381336e-02 -5.078874e-02 -1.657671e-01   \n",
       "75%    7.065003e-01  2.236954e-01  6.259592e-01  6.128244e-01  4.520419e-01   \n",
       "max    5.050891e+00  1.216665e+01  5.582681e+00  4.063613e+00  7.505361e+00   \n",
       "\n",
       "                 x2            x9            x1            y  \n",
       "count  3.358000e+03  3.358000e+03  3.358000e+03  3358.000000  \n",
       "mean  -1.006871e-15  3.763120e-15 -2.144370e-15     5.912150  \n",
       "std    1.000149e+00  1.000149e+00  1.000149e+00     1.053115  \n",
       "min   -1.967710e+00 -1.827992e+01 -3.402729e+00     3.000000  \n",
       "25%   -6.806079e-01 -6.498438e-01 -6.754290e-01     5.000000  \n",
       "50%   -1.657671e-01 -2.055984e-02 -1.072416e-01     6.000000  \n",
       "75%    4.520419e-01  6.051070e-01  5.745834e-01     6.000000  \n",
       "max    7.505361e+00  3.578784e+00  5.574633e+00     9.000000  "
      ]
     },
     "execution_count": 22,
     "metadata": {},
     "output_type": "execute_result"
    }
   ],
   "source": [
    "df1.describe()"
   ]
  },
  {
   "cell_type": "code",
   "execution_count": 23,
   "id": "d85425a7",
   "metadata": {},
   "outputs": [],
   "source": [
    "# code for parameter tuning\n",
    "\n",
    "\n",
    "# max_depths = [2*i for i in range(1,15)]\n",
    "# min_samples_splits = [2]\n",
    "# min_samples_leafs =  [1, 2, 4]\n",
    "# best_score = 0\n",
    "\n",
    "# for max_depth in max_depths:\n",
    "#     for min_samples_split in min_samples_splits:\n",
    "#         for min_samples_leaf in min_samples_leafs:\n",
    "#             # Create a random forest classifier with the current hyperparameters\n",
    "#             random_forest = RandomForestClassifier(n_estimators = 100, max_depth=max_depth, min_samples_split=min_samples_split, min_samples_leaf=min_samples_leaf)\n",
    "\n",
    "#             # Evaluate the random forest classifier with cross-validation\n",
    "#             accuracy_list = cross_val_score(random_forest, df1_x, df1_y, cv=5)\n",
    "#             accuracy = accuracy_list.mean()\n",
    "\n",
    "#             # Check if the current hyperparameters give better accuracy than previous ones\n",
    "#             if accuracy > best_score:\n",
    "#                 best_score = accuracy\n",
    "#                 best_params = {'max_depth': max_depth, 'min_samples_split': min_samples_split, 'min_samples_leaf': min_samples_leaf}\n",
    "#                 print(f'Best hyperparameters: {best_params}')\n",
    "#                 print(f'Accuracy: {best_score}')\n",
    "\n",
    "\n",
    "# print(f'Best hyperparameters: {best_params}')\n",
    "# print(f'Accuracy: {best_score}')"
   ]
  },
  {
   "cell_type": "code",
   "execution_count": 24,
   "id": "0e58c82d",
   "metadata": {},
   "outputs": [
    {
     "name": "stdout",
     "output_type": "stream",
     "text": [
      "0.4982151728053368\n",
      "0.42743417023882424\n"
     ]
    }
   ],
   "source": [
    "rf = RandomForestClassifier(n_estimators = 100, max_depth=2, min_samples_split=16, min_samples_leaf=1)\n",
    "accuracy_list = cross_val_score(rf, df1_x, df1_y, cv=5)\n",
    "accuracy = accuracy_list.mean()\n",
    "print(accuracy)\n",
    "\n",
    "rf.fit(df1_x, df1_y)\n",
    "y_pred = rf.predict(df2_x)\n",
    "accuracy = accuracy_score(df2_y,y_pred)\n",
    "print(accuracy)"
   ]
  },
  {
   "cell_type": "code",
   "execution_count": 25,
   "id": "1fbffb10",
   "metadata": {},
   "outputs": [
    {
     "data": {
      "text/plain": [
       "array([3, 4, 5, 6, 7, 8, 9], dtype=int64)"
      ]
     },
     "execution_count": 25,
     "metadata": {},
     "output_type": "execute_result"
    }
   ],
   "source": [
    "df1_y.unique()"
   ]
  },
  {
   "cell_type": "code",
   "execution_count": 26,
   "id": "cf348a2c",
   "metadata": {},
   "outputs": [],
   "source": [
    "train = pd.concat([df1_x, df1_y], axis=1)\n",
    "train = train.dropna()\n",
    "train.to_csv(' 200647R_lab1_train.csv', index=False)\n",
    "\n",
    "y_pred = pd.Series(y_pred)\n",
    "\n",
    "test = pd.concat([df2_x, y_pred], axis=1)\n",
    "test = test.dropna()\n",
    "test.to_csv(' 200647R_lab1_test.csv', index=False)"
   ]
  },
  {
   "cell_type": "code",
   "execution_count": null,
   "id": "bbd26375",
   "metadata": {},
   "outputs": [],
   "source": []
  }
 ],
 "metadata": {
  "colab": {
   "provenance": []
  },
  "kernelspec": {
   "display_name": "Python 3 (ipykernel)",
   "language": "python",
   "name": "python3"
  },
  "language_info": {
   "codemirror_mode": {
    "name": "ipython",
    "version": 3
   },
   "file_extension": ".py",
   "mimetype": "text/x-python",
   "name": "python",
   "nbconvert_exporter": "python",
   "pygments_lexer": "ipython3",
   "version": "3.9.13"
  }
 },
 "nbformat": 4,
 "nbformat_minor": 5
}
